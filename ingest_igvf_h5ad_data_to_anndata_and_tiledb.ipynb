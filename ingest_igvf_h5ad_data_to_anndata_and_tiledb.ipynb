{
 "cells": [
  {
   "cell_type": "markdown",
   "metadata": {},
   "source": [
    "![igvflogo](images/igvf-logo.png)"
   ]
  },
  {
   "cell_type": "markdown",
   "metadata": {},
   "source": [
    "# Why use TileDB?\n",
    "With [TileDB](https://tiledb.io/) you gain the ability to quickly query array-structured data using rectangular slices, update existing arrays with new or changed data, and easily optimize your physical data organization for maximizing compression and read performance."
   ]
  },
  {
   "cell_type": "markdown",
   "metadata": {},
   "source": [
    "# What is anndata\n",
    "Anndata is a python package for handling annotated data matrices in memory and on disk. It is a widely used format for single-cell genomics data. For the purposes of this tutorial we will be using an experiment from [IGVF Project](https://data.igvf.org/matrix-files/IGVFFI0475WSGO/). For More information about anndata, see [anndata documentation](https://anndata.readthedocs.io/en/stable/)"
   ]
  },
  {
   "cell_type": "markdown",
   "metadata": {},
   "source": [
    "# Installation and configuration\n",
    "We will be making use of tiledb and tiledbsoma python packages."
   ]
  },
  {
   "cell_type": "code",
   "execution_count": 1,
   "metadata": {},
   "outputs": [],
   "source": [
    "!pip install tiledb tiledbsoma"
   ]
  },
  {
   "cell_type": "code",
   "execution_count": 8,
   "metadata": {},
   "outputs": [
    {
     "name": "stdout",
     "output_type": "stream",
     "text": [
      "tiledbsoma.__version__              1.17.1\n",
      "TileDB core version (libtiledbsoma) 2.28.1\n",
      "python version                      3.11.9.final.0\n",
      "OS version                          Darwin 24.6.0\n"
     ]
    }
   ],
   "source": [
    "import anndata as ad\n",
    "import tiledb\n",
    "import tiledbsoma\n",
    "import tiledbsoma.io\n",
    "from tiledbsoma import SOMAError\n",
    "\n",
    "tiledbsoma.show_package_versions()\n",
    "cfg = tiledb.Config({\"vfs.s3.no_sign_request\": True})\n",
    "vfs = tiledb.VFS(config=cfg)"
   ]
  },
  {
   "cell_type": "markdown",
   "metadata": {},
   "source": [
    "# Open h5ad with tiledb vfs and anndata\n",
    "Using TileDB’s VFS, you can read the H5AD directly from S3 and load it into memory using the AnnData package:"
   ]
  },
  {
   "cell_type": "code",
   "execution_count": 2,
   "metadata": {},
   "outputs": [],
   "source": [
    "H5AD_URI = 'IGVFFI0475WSGO.h5ad' #\"s3://igvf-public-data/2025/03/27/c70f866e-68ba-4ec9-9c81-441d7e3552cc/IGVFFI0475WSGO.h5ad\"\n",
    "\n",
    "with vfs.open(H5AD_URI) as h5ad:\n",
    "    adata = ad.read_h5ad(h5ad)"
   ]
  },
  {
   "cell_type": "markdown",
   "metadata": {},
   "source": [
    "# Explore anndata object\n",
    "Anndata is a rich container, and we won't go into the detail here. Below we'll look at very basic properties of the object."
   ]
  },
  {
   "cell_type": "code",
   "execution_count": 4,
   "metadata": {},
   "outputs": [
    {
     "data": {
      "text/plain": [
       "AnnData object with n_obs × n_vars = 1837535 × 78298\n",
       "    layers: 'ambiguous', 'mature', 'nascent'"
      ]
     },
     "execution_count": 4,
     "metadata": {},
     "output_type": "execute_result"
    }
   ],
   "source": [
    "adata"
   ]
  },
  {
   "cell_type": "code",
   "execution_count": 5,
   "metadata": {},
   "outputs": [
    {
     "data": {
      "text/html": [
       "<div>\n",
       "<style scoped>\n",
       "    .dataframe tbody tr th:only-of-type {\n",
       "        vertical-align: middle;\n",
       "    }\n",
       "\n",
       "    .dataframe tbody tr th {\n",
       "        vertical-align: top;\n",
       "    }\n",
       "\n",
       "    .dataframe thead th {\n",
       "        text-align: right;\n",
       "    }\n",
       "</style>\n",
       "<table border=\"1\" class=\"dataframe\">\n",
       "  <thead>\n",
       "    <tr style=\"text-align: right;\">\n",
       "      <th></th>\n",
       "    </tr>\n",
       "    <tr>\n",
       "      <th>barcode</th>\n",
       "    </tr>\n",
       "  </thead>\n",
       "  <tbody>\n",
       "    <tr>\n",
       "      <th>AACCTATAAACCTATAAAGCGGCA_SS-PKR-129</th>\n",
       "    </tr>\n",
       "    <tr>\n",
       "      <th>AACCTATAAACCTATAAATCTCGC_SS-PKR-129</th>\n",
       "    </tr>\n",
       "    <tr>\n",
       "      <th>AACCTATAAACCTATAACAGTGGT_SS-PKR-129</th>\n",
       "    </tr>\n",
       "    <tr>\n",
       "      <th>AACCTATAAACCTATAACGGTAAT_SS-PKR-129</th>\n",
       "    </tr>\n",
       "    <tr>\n",
       "      <th>AACCTATAAACCTATAAGACCAGG_SS-PKR-129</th>\n",
       "    </tr>\n",
       "  </tbody>\n",
       "</table>\n",
       "</div>"
      ],
      "text/plain": [
       "Empty DataFrame\n",
       "Columns: []\n",
       "Index: [AACCTATAAACCTATAAAGCGGCA_SS-PKR-129, AACCTATAAACCTATAAATCTCGC_SS-PKR-129, AACCTATAAACCTATAACAGTGGT_SS-PKR-129, AACCTATAAACCTATAACGGTAAT_SS-PKR-129, AACCTATAAACCTATAAGACCAGG_SS-PKR-129]"
      ]
     },
     "execution_count": 5,
     "metadata": {},
     "output_type": "execute_result"
    }
   ],
   "source": [
    "adata.obs.head()"
   ]
  },
  {
   "cell_type": "code",
   "execution_count": 6,
   "metadata": {},
   "outputs": [
    {
     "data": {
      "text/html": [
       "<div>\n",
       "<style scoped>\n",
       "    .dataframe tbody tr th:only-of-type {\n",
       "        vertical-align: middle;\n",
       "    }\n",
       "\n",
       "    .dataframe tbody tr th {\n",
       "        vertical-align: top;\n",
       "    }\n",
       "\n",
       "    .dataframe thead th {\n",
       "        text-align: right;\n",
       "    }\n",
       "</style>\n",
       "<table border=\"1\" class=\"dataframe\">\n",
       "  <thead>\n",
       "    <tr style=\"text-align: right;\">\n",
       "      <th></th>\n",
       "    </tr>\n",
       "    <tr>\n",
       "      <th>gene_id</th>\n",
       "    </tr>\n",
       "  </thead>\n",
       "  <tbody>\n",
       "    <tr>\n",
       "      <th>ENSMUSG00000102693.2</th>\n",
       "    </tr>\n",
       "    <tr>\n",
       "      <th>ENSMUSG00000064842.3</th>\n",
       "    </tr>\n",
       "    <tr>\n",
       "      <th>ENSMUSG00000051951.6</th>\n",
       "    </tr>\n",
       "    <tr>\n",
       "      <th>ENSMUSG00000102851.2</th>\n",
       "    </tr>\n",
       "    <tr>\n",
       "      <th>ENSMUSG00000103377.2</th>\n",
       "    </tr>\n",
       "  </tbody>\n",
       "</table>\n",
       "</div>"
      ],
      "text/plain": [
       "Empty DataFrame\n",
       "Columns: []\n",
       "Index: [ENSMUSG00000102693.2, ENSMUSG00000064842.3, ENSMUSG00000051951.6, ENSMUSG00000102851.2, ENSMUSG00000103377.2]"
      ]
     },
     "execution_count": 6,
     "metadata": {},
     "output_type": "execute_result"
    }
   ],
   "source": [
    "adata.var.head()"
   ]
  },
  {
   "cell_type": "markdown",
   "metadata": {},
   "source": [
    "# Ingest anndata into SOMA experiment\n",
    "SOMA experiment can be created in a local file, S3 bucket or in TileDB Cloud (requires setting up [TileDB Cloud](https://cloud.tiledb.com) account)"
   ]
  },
  {
   "cell_type": "code",
   "execution_count": 10,
   "metadata": {},
   "outputs": [
    {
     "name": "stdout",
     "output_type": "stream",
     "text": [
      "Experiment my-single-cell-soma-experiment already exists. Delete (or deregister if using TileDB Cloud) the experiment before continuing.[2025-09-10 12:18:03.427] [Process: 78213] [error] [1757531234104572000-Global] Group: Cannot create group; Group 'file:///Users/otto/Documents/repos/igvf/igvf-data-usage-examples/my-single-cell-soma-experiment' already exists\n",
      "\n"
     ]
    }
   ],
   "source": [
    "EXPERIMENT_URI = 'my-single-cell-soma-experiment' #This URI can also be of format s3:// or tiledb://\n",
    "try:\n",
    "    tiledbsoma.io.from_anndata(experiment_uri=EXPERIMENT_URI, measurement_name=\"RNA\", anndata=adata)\n",
    "    with tiledbsoma.open(EXPERIMENT_URI) as exp:\n",
    "        print(exp.ms['RNA'].var.domain)\n",
    "        print(exp.ms[\"RNA\"].X[\"data\"].shape)\n",
    "except SOMAError:\n",
    "    print(f'Experiment {EXPERIMENT_URI} already exists. Delete (or deregister if using TileDB Cloud) the experiment before continuing.') "
   ]
  }
 ],
 "metadata": {
  "anaconda-cloud": {},
  "kernelspec": {
   "display_name": "Python 3 (ipykernel)",
   "language": "python",
   "name": "python3"
  },
  "language_info": {
   "codemirror_mode": {
    "name": "ipython",
    "version": 3
   },
   "file_extension": ".py",
   "mimetype": "text/x-python",
   "name": "python",
   "nbconvert_exporter": "python",
   "pygments_lexer": "ipython3",
   "version": "3.11.9"
  }
 },
 "nbformat": 4,
 "nbformat_minor": 4
}
