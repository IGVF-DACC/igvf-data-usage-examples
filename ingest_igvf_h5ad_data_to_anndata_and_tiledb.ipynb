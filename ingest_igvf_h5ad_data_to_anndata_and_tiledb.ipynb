{
 "cells": [
  {
   "cell_type": "markdown",
   "metadata": {},
   "source": [
    "![igvflogo](images/igvf-winter-logo.png)"
   ]
  },
  {
   "cell_type": "markdown",
   "metadata": {},
   "source": [
    "# Why use TileDB?\n",
    "With [TileDB](https://tiledb.io/) you gain the ability to quickly query array-structured data using rectangular slices, update existing arrays with new or changed data, and easily optimize your physical data organization for maximizing compression and read performance."
   ]
  },
  {
   "cell_type": "markdown",
   "metadata": {},
   "source": [
    "# What is anndata\n",
    "Anndata is a python package for handling annotated data matrices in memory and on disk. It is a widely used format for single-cell genomics data. For the purposes of this tutorial we will be using an experiment from [IGVF Project](https://data.igvf.org/matrix-files/IGVFFI0475WSGO/). For More information about anndata, see [anndata documentation](https://anndata.readthedocs.io/en/stable/)"
   ]
  },
  {
   "cell_type": "markdown",
   "metadata": {},
   "source": [
    "# Installation and configuration\n",
    "We will be making use of tiledb and tiledbsoma python packages."
   ]
  },
  {
   "cell_type": "code",
   "execution_count": 4,
   "metadata": {},
   "outputs": [
    {
     "name": "stdout",
     "output_type": "stream",
     "text": [
      "tiledbsoma.__version__              1.17.1\n",
      "TileDB core version (libtiledbsoma) 2.28.1\n",
      "python version                      3.13.5.final.0\n",
      "OS version                          Darwin 24.6.0\n"
     ]
    }
   ],
   "source": [
    "import anndata as ad\n",
    "import tiledb\n",
    "import tiledbsoma\n",
    "import tiledbsoma.io\n",
    "from tiledbsoma import SOMAError\n",
    "\n",
    "import requests\n",
    "import boto3\n",
    "import io\n",
    "from urllib.parse import urlparse\n",
    "\n",
    "tiledbsoma.show_package_versions()\n",
    "cfg = tiledb.Config({\"vfs.s3.no_sign_request\": True})\n",
    "vfs = tiledb.VFS(config=cfg)"
   ]
  },
  {
   "cell_type": "markdown",
   "metadata": {},
   "source": [
    "### *The matrix `IGVFFI8645YMGX.h5ad` is from a Perturb-seq dataset in TeloHAEC cells: [IGVFDS7943IIWZ](hhttps://data.igvf.org/analysis-sets/IGVFDS7943IIWZ/)*\n",
    "We will start by fetching the File metadata and the s3_uri"
   ]
  },
  {
   "cell_type": "code",
   "execution_count": 43,
   "metadata": {},
   "outputs": [],
   "source": [
    "file_metadata = requests.get(\"https://api.data.igvf.org/matrix-files/IGVFFI8645YMGX/\").json()\n",
    "uri = file_metadata['s3_uri']\n",
    "parsed_uri = urlparse(uri)\n",
    "bucket_name = parsed_uri.netloc\n",
    "object_key = parsed_uri.path.lstrip(\"/\")\n"
   ]
  },
  {
   "cell_type": "markdown",
   "metadata": {},
   "source": [
    "# Open h5ad with tiledb vfs and anndata\n",
    "From this point on you will need to be authenticated with AWS"
   ]
  },
  {
   "cell_type": "code",
   "execution_count": 44,
   "metadata": {},
   "outputs": [],
   "source": [
    "# Initialize S3 client\n",
    "s3_client = boto3.client('s3')\n",
    "\n",
    "# Get the object from S3 - requires creds\n",
    "response = s3_client.get_object(Bucket=bucket_name, Key=object_key)\n",
    "\n",
    "# Read the content of the object into a BytesIO stream\n",
    "data_stream = io.BytesIO(response['Body'].read())\n",
    "\n",
    "adata = ad.read_h5ad(data_stream)"
   ]
  },
  {
   "cell_type": "markdown",
   "metadata": {},
   "source": [
    "# Explore anndata object\n",
    "Anndata is a rich container, and we won't go into the detail here. Below we'll look at very basic properties of the object."
   ]
  },
  {
   "cell_type": "code",
   "execution_count": 45,
   "metadata": {},
   "outputs": [
    {
     "data": {
      "text/plain": [
       "AnnData object with n_obs × n_vars = 214449 × 17472\n",
       "    obs: 'barcodes', 'n_genes', 'n_counts'\n",
       "    var: 'n_cells'"
      ]
     },
     "execution_count": 45,
     "metadata": {},
     "output_type": "execute_result"
    }
   ],
   "source": [
    "adata"
   ]
  },
  {
   "cell_type": "code",
   "execution_count": 46,
   "metadata": {},
   "outputs": [
    {
     "data": {
      "text/html": [
       "<div>\n",
       "<style scoped>\n",
       "    .dataframe tbody tr th:only-of-type {\n",
       "        vertical-align: middle;\n",
       "    }\n",
       "\n",
       "    .dataframe tbody tr th {\n",
       "        vertical-align: top;\n",
       "    }\n",
       "\n",
       "    .dataframe thead th {\n",
       "        text-align: right;\n",
       "    }\n",
       "</style>\n",
       "<table border=\"1\" class=\"dataframe\">\n",
       "  <thead>\n",
       "    <tr style=\"text-align: right;\">\n",
       "      <th></th>\n",
       "      <th>barcodes</th>\n",
       "      <th>n_genes</th>\n",
       "      <th>n_counts</th>\n",
       "    </tr>\n",
       "  </thead>\n",
       "  <tbody>\n",
       "    <tr>\n",
       "      <th>('ANKEF1:GAAGGGACATCATTCACGCCT:AAACCCAAGAAGTCAT-scRNAseq_2kG_11AMDox_1',)</th>\n",
       "      <td>ANKEF1:GAAGGGACATCATTCACGCCT:AAACCCAAGAAGTCAT-...</td>\n",
       "      <td>3609</td>\n",
       "      <td>12474.0</td>\n",
       "    </tr>\n",
       "    <tr>\n",
       "      <th>('MTRR:GTGGTCCTGGGTACCGAGCAT:AAACCCAAGAGGACTC-scRNAseq_2kG_11AMDox_1',)</th>\n",
       "      <td>MTRR:GTGGTCCTGGGTACCGAGCAT:AAACCCAAGAGGACTC-sc...</td>\n",
       "      <td>1904</td>\n",
       "      <td>5743.0</td>\n",
       "    </tr>\n",
       "    <tr>\n",
       "      <th>('JAG1:GATGCGCCCTGCCCGGCGTGC:AAACCCACAATCGCAT-scRNAseq_2kG_11AMDox_1',)</th>\n",
       "      <td>JAG1:GATGCGCCCTGCCCGGCGTGC:AAACCCACAATCGCAT-sc...</td>\n",
       "      <td>4473</td>\n",
       "      <td>21423.0</td>\n",
       "    </tr>\n",
       "    <tr>\n",
       "      <th>('GOLPH3L:GGAAGTTTGTGCTCTCTGCG:AAACCCACACCAGCGT-scRNAseq_2kG_11AMDox_1',)</th>\n",
       "      <td>GOLPH3L:GGAAGTTTGTGCTCTCTGCG:AAACCCACACCAGCGT-...</td>\n",
       "      <td>3306</td>\n",
       "      <td>13837.0</td>\n",
       "    </tr>\n",
       "    <tr>\n",
       "      <th>('ARHGEF15-TSS2:GACCTACTGCAGAGTTAGGG:AAACCCACATTAAGCC-scRNAseq_2kG_11AMDox_1',)</th>\n",
       "      <td>ARHGEF15-TSS2:GACCTACTGCAGAGTTAGGG:AAACCCACATT...</td>\n",
       "      <td>3570</td>\n",
       "      <td>13278.0</td>\n",
       "    </tr>\n",
       "  </tbody>\n",
       "</table>\n",
       "</div>"
      ],
      "text/plain": [
       "                                                                                             barcodes  \\\n",
       "('ANKEF1:GAAGGGACATCATTCACGCCT:AAACCCAAGAAGTCAT...  ANKEF1:GAAGGGACATCATTCACGCCT:AAACCCAAGAAGTCAT-...   \n",
       "('MTRR:GTGGTCCTGGGTACCGAGCAT:AAACCCAAGAGGACTC-s...  MTRR:GTGGTCCTGGGTACCGAGCAT:AAACCCAAGAGGACTC-sc...   \n",
       "('JAG1:GATGCGCCCTGCCCGGCGTGC:AAACCCACAATCGCAT-s...  JAG1:GATGCGCCCTGCCCGGCGTGC:AAACCCACAATCGCAT-sc...   \n",
       "('GOLPH3L:GGAAGTTTGTGCTCTCTGCG:AAACCCACACCAGCGT...  GOLPH3L:GGAAGTTTGTGCTCTCTGCG:AAACCCACACCAGCGT-...   \n",
       "('ARHGEF15-TSS2:GACCTACTGCAGAGTTAGGG:AAACCCACAT...  ARHGEF15-TSS2:GACCTACTGCAGAGTTAGGG:AAACCCACATT...   \n",
       "\n",
       "                                                    n_genes  n_counts  \n",
       "('ANKEF1:GAAGGGACATCATTCACGCCT:AAACCCAAGAAGTCAT...     3609   12474.0  \n",
       "('MTRR:GTGGTCCTGGGTACCGAGCAT:AAACCCAAGAGGACTC-s...     1904    5743.0  \n",
       "('JAG1:GATGCGCCCTGCCCGGCGTGC:AAACCCACAATCGCAT-s...     4473   21423.0  \n",
       "('GOLPH3L:GGAAGTTTGTGCTCTCTGCG:AAACCCACACCAGCGT...     3306   13837.0  \n",
       "('ARHGEF15-TSS2:GACCTACTGCAGAGTTAGGG:AAACCCACAT...     3570   13278.0  "
      ]
     },
     "execution_count": 46,
     "metadata": {},
     "output_type": "execute_result"
    }
   ],
   "source": [
    "adata.obs.head()"
   ]
  },
  {
   "cell_type": "code",
   "execution_count": 47,
   "metadata": {},
   "outputs": [
    {
     "data": {
      "text/html": [
       "<div>\n",
       "<style scoped>\n",
       "    .dataframe tbody tr th:only-of-type {\n",
       "        vertical-align: middle;\n",
       "    }\n",
       "\n",
       "    .dataframe tbody tr th {\n",
       "        vertical-align: top;\n",
       "    }\n",
       "\n",
       "    .dataframe thead th {\n",
       "        text-align: right;\n",
       "    }\n",
       "</style>\n",
       "<table border=\"1\" class=\"dataframe\">\n",
       "  <thead>\n",
       "    <tr style=\"text-align: right;\">\n",
       "      <th></th>\n",
       "      <th>n_cells</th>\n",
       "    </tr>\n",
       "  </thead>\n",
       "  <tbody>\n",
       "    <tr>\n",
       "      <th>FAM87B:ENSG00000177757</th>\n",
       "      <td>115</td>\n",
       "    </tr>\n",
       "    <tr>\n",
       "      <th>FAM41C:ENSG00000230368</th>\n",
       "      <td>2274</td>\n",
       "    </tr>\n",
       "    <tr>\n",
       "      <th>SAMD11:ENSG00000187634</th>\n",
       "      <td>491</td>\n",
       "    </tr>\n",
       "    <tr>\n",
       "      <th>NOC2L:ENSG00000188976</th>\n",
       "      <td>66487</td>\n",
       "    </tr>\n",
       "    <tr>\n",
       "      <th>KLHL17:ENSG00000187961</th>\n",
       "      <td>6897</td>\n",
       "    </tr>\n",
       "  </tbody>\n",
       "</table>\n",
       "</div>"
      ],
      "text/plain": [
       "                        n_cells\n",
       "FAM87B:ENSG00000177757      115\n",
       "FAM41C:ENSG00000230368     2274\n",
       "SAMD11:ENSG00000187634      491\n",
       "NOC2L:ENSG00000188976     66487\n",
       "KLHL17:ENSG00000187961     6897"
      ]
     },
     "execution_count": 47,
     "metadata": {},
     "output_type": "execute_result"
    }
   ],
   "source": [
    "adata.var.head()"
   ]
  },
  {
   "cell_type": "markdown",
   "metadata": {},
   "source": [
    "# Ingest anndata into SOMA experiment\n",
    "SOMA experiment can be created in a local file (demonstrated here), S3 bucket or in TileDB Cloud (requires setting up [TileDB Cloud](https://cloud.tiledb.com) account)"
   ]
  },
  {
   "cell_type": "code",
   "execution_count": 48,
   "metadata": {},
   "outputs": [
    {
     "name": "stdout",
     "output_type": "stream",
     "text": [
      "((0, 17471),)\n",
      "(214449, 17472)\n"
     ]
    }
   ],
   "source": [
    "EXPERIMENT_URI = 'my-single-cell-soma-experiment' #This URI can also be of format s3:// or tiledb://\n",
    "try:\n",
    "    tiledbsoma.io.from_anndata(experiment_uri=EXPERIMENT_URI, measurement_name=\"RNA\", anndata=adata)\n",
    "    with tiledbsoma.open(EXPERIMENT_URI) as exp:\n",
    "        print(exp.ms['RNA'].var.domain)\n",
    "        print(exp.ms[\"RNA\"].X[\"data\"].shape)\n",
    "except SOMAError:\n",
    "    print(f'Experiment {EXPERIMENT_URI} already exists. Delete (or deregister if using TileDB Cloud) the experiment before continuing.') "
   ]
  },
  {
   "cell_type": "code",
   "execution_count": null,
   "metadata": {},
   "outputs": [],
   "source": []
  },
  {
   "cell_type": "code",
   "execution_count": null,
   "metadata": {},
   "outputs": [],
   "source": []
  }
 ],
 "metadata": {
  "anaconda-cloud": {},
  "kernelspec": {
   "display_name": "Python 3 (ipykernel)",
   "language": "python",
   "name": "python3"
  },
  "language_info": {
   "codemirror_mode": {
    "name": "ipython",
    "version": 3
   },
   "file_extension": ".py",
   "mimetype": "text/x-python",
   "name": "python",
   "nbconvert_exporter": "python",
   "pygments_lexer": "ipython3",
   "version": "3.13.5"
  }
 },
 "nbformat": 4,
 "nbformat_minor": 4
}
