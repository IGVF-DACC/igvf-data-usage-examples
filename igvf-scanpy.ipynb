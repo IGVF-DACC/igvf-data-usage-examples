{
 "cells": [
  {
   "cell_type": "markdown",
   "metadata": {},
   "source": [
    "![igvflogo](images/igvf-winter-logo.png)\n",
    "# How to get access to single-cell AnnData (h5ad) files interrogate and display the calculated UMAPS\n"
   ]
  },
  {
   "cell_type": "code",
   "execution_count": null,
   "metadata": {},
   "outputs": [],
   "source": [
    "!pip install -r requirements.txt"
   ]
  },
  {
   "cell_type": "code",
   "execution_count": null,
   "metadata": {},
   "outputs": [],
   "source": [
    "\n",
    "import anndata as ad\n",
    "import json\n",
    "import pandas as pd\n",
    "import requests\n",
    "import scanpy as sc\n",
    "from IPython.display import display\n",
    "from scipy import sparse\n",
    "from urllib.parse import quote\n",
    "\n",
    "import boto3\n",
    "import io\n",
    "from urllib.parse import urlparse"
   ]
  },
  {
   "cell_type": "markdown",
   "metadata": {},
   "source": [
    "# Loading the AnnData object\n",
    "### *The matrix `IGVFFI5345SNRS.h5ad` is from a mouse cerebral cortext PARSE-split-seq scRNA dataset: [IGVFDS4883TFKC](https://data.igvf.org/analysis-sets/IGVFDS4883TFKC/)*\n",
    "We will start by fetching the File metadata and the s3_uri"
   ]
  },
  {
   "cell_type": "code",
   "execution_count": null,
   "metadata": {},
   "outputs": [],
   "source": [
    "file_metadata = requests.get(\"https://api.data.igvf.org/matrix-files/IGVFFI5345SNRS\").json()\n",
    "uri = file_metadata['s3_uri']\n",
    "uri"
   ]
  },
  {
   "cell_type": "code",
   "execution_count": null,
   "metadata": {},
   "outputs": [],
   "source": [
    "parsed = urlparse(uri)\n",
    "\n",
    "bucket_name = parsed.netloc\n",
    "object_key = parsed.path.lstrip(\"/\")\n",
    "\n",
    "print(\"Bucket:\", bucket_name)\n",
    "print(\"Key:\", object_key)"
   ]
  },
  {
   "cell_type": "markdown",
   "metadata": {},
   "source": [
    "### From this point on you will need to be authenticated in AWS "
   ]
  },
  {
   "cell_type": "code",
   "execution_count": null,
   "metadata": {},
   "outputs": [],
   "source": [
    "\n",
    "# Initialize S3 client\n",
    "s3_client = boto3.client('s3')\n",
    "\n",
    "# Get the object from S3 - requires creds\n",
    "response = s3_client.get_object(Bucket=bucket_name, Key=object_key)\n",
    "\n",
    "# Read the content of the object into a BytesIO stream\n",
    "data_stream = io.BytesIO(response['Body'].read())\n"
   ]
  },
  {
   "cell_type": "markdown",
   "metadata": {},
   "source": [
    "**Load the AnnData object**  (this might take a minute)"
   ]
  },
  {
   "cell_type": "code",
   "execution_count": null,
   "metadata": {},
   "outputs": [],
   "source": [
    "adata = sc.read_h5ad(data_stream)\n",
    "adata"
   ]
  },
  {
   "cell_type": "markdown",
   "metadata": {},
   "source": [
    "# The \"obsm\" object represents the Multi-dimensional annotation of observations (usually cell type annotations)\n",
    "**Confirm at least one set of embeddings is present**"
   ]
  },
  {
   "cell_type": "code",
   "execution_count": null,
   "metadata": {},
   "outputs": [],
   "source": [
    "adata.obsm"
   ]
  },
  {
   "cell_type": "markdown",
   "metadata": {},
   "source": [
    "** Let's View the umap **"
   ]
  },
  {
   "cell_type": "code",
   "execution_count": null,
   "metadata": {},
   "outputs": [],
   "source": [
    "\n",
    "e = 'X_umap'\n",
    "cellpop_field = 'celltype' # this can vary from example to example\n",
    "sc.set_figure_params(dpi=100, fontsize=8, figsize=(12.0,8.0))\n",
    "sc.pl.embedding(adata, basis=e, color=cellpop_field, legend_loc='on data')\n"
   ]
  },
  {
   "cell_type": "markdown",
   "metadata": {},
   "source": [
    "**The uns is the unstructured annotations; let's take a look**"
   ]
  },
  {
   "cell_type": "code",
   "execution_count": null,
   "metadata": {},
   "outputs": [],
   "source": [
    "adata.uns"
   ]
  },
  {
   "cell_type": "markdown",
   "metadata": {},
   "source": [
    "# Let's look at 'obs' the one dimensional annotatations"
   ]
  },
  {
   "cell_type": "code",
   "execution_count": null,
   "metadata": {},
   "outputs": [],
   "source": [
    "adata.obs.info()"
   ]
  },
  {
   "cell_type": "code",
   "execution_count": null,
   "metadata": {},
   "outputs": [],
   "source": [
    "adata.obs"
   ]
  },
  {
   "cell_type": "markdown",
   "metadata": {},
   "source": [
    "# Finally we'll take a look at var, the one-dimensional data frame of features (typically genes or accessible-peaks)\n"
   ]
  },
  {
   "cell_type": "code",
   "execution_count": null,
   "metadata": {},
   "outputs": [],
   "source": [
    "adata.var"
   ]
  },
  {
   "cell_type": "markdown",
   "metadata": {},
   "source": [
    " ### *[IGVFDS4883TFKC](https://data.igvf.org/analysis-sets/IGVFDS4883TFKC/) is a human B-Cell 10X Multiomics dataset*\n",
    " `IGVFFI9438KOCK.h5ad` is the snRNA-seq matrix and \n",
    " `IGVFFI3541FUQE.h5ad` is the snATAC-seq matrix"
   ]
  },
  {
   "cell_type": "markdown",
   "metadata": {},
   "source": [
    "We will condense some steps"
   ]
  },
  {
   "cell_type": "code",
   "execution_count": null,
   "metadata": {},
   "outputs": [],
   "source": [
    "file_metadata = requests.get(\"https://api.data.igvf.org/matrix-files/IGVFFI9438KOCK/\").json()\n",
    "uri = file_metadata['s3_uri']\n",
    "parsed = urlparse(uri)\n",
    "\n",
    "bucket_name = parsed.netloc\n",
    "object_key = parsed.path.lstrip(\"/\")\n",
    "\n",
    "# Get the object from S3 - requires creds\n",
    "response = s3_client.get_object(Bucket=bucket_name, Key=object_key)\n",
    "\n",
    "# Read the content of the object into a BytesIO stream\n",
    "data_stream = io.BytesIO(response['Body'].read())\n",
    "\n",
    "adata = sc.read_h5ad(data_stream)\n",
    "adata"
   ]
  },
  {
   "cell_type": "markdown",
   "metadata": {},
   "source": [
    "# The \"obsm\" object represents the Multi-dimensional annotation of observations (usually cell type annotations)\n",
    "**Confirm at least one set of embeddings is present**"
   ]
  },
  {
   "cell_type": "code",
   "execution_count": null,
   "metadata": {},
   "outputs": [],
   "source": [
    "adata.obsm"
   ]
  },
  {
   "cell_type": "markdown",
   "metadata": {},
   "source": [
    "** Let's View the umap **"
   ]
  },
  {
   "cell_type": "code",
   "execution_count": null,
   "metadata": {},
   "outputs": [],
   "source": [
    "\n",
    "e = 'X_umap'\n",
    "cellpop_field = 'cell_type_annotation' # this can vary from example to example\n",
    "sc.set_figure_params(dpi=100, fontsize=8, figsize=(12.0,8.0))\n",
    "sc.pl.embedding(adata, basis=e, color=cellpop_field, legend_loc='on data')\n"
   ]
  },
  {
   "cell_type": "code",
   "execution_count": null,
   "metadata": {},
   "outputs": [],
   "source": [
    "file_metadata = requests.get(\"https://api.data.igvf.org/matrix-files/IGVFFI3541FUQE/\").json()\n",
    "uri = file_metadata['s3_uri']\n",
    "parsed = urlparse(uri)\n",
    "\n",
    "bucket_name = parsed.netloc\n",
    "object_key = parsed.path.lstrip(\"/\")\n",
    "\n",
    "# Get the object from S3 - requires creds\n",
    "response = s3_client.get_object(Bucket=bucket_name, Key=object_key)\n",
    "\n",
    "# Read the content of the object into a BytesIO stream\n",
    "data_stream = io.BytesIO(response['Body'].read())\n",
    "\n",
    "adata = sc.read_h5ad(data_stream)\n",
    "adata"
   ]
  },
  {
   "cell_type": "markdown",
   "metadata": {},
   "source": [
    "Here we see the 'varm' object (Variable multi-dimensional annotations)"
   ]
  },
  {
   "cell_type": "code",
   "execution_count": null,
   "metadata": {},
   "outputs": [],
   "source": [
    "adata.varm"
   ]
  },
  {
   "cell_type": "code",
   "execution_count": null,
   "metadata": {},
   "outputs": [],
   "source": []
  }
 ],
 "metadata": {
  "kernelspec": {
   "display_name": "Python 3 (ipykernel)",
   "language": "python",
   "name": "python3"
  },
  "language_info": {
   "codemirror_mode": {
    "name": "ipython",
    "version": 3
   },
   "file_extension": ".py",
   "mimetype": "text/x-python",
   "name": "python",
   "nbconvert_exporter": "python",
   "pygments_lexer": "ipython3",
   "version": "3.13.5"
  }
 },
 "nbformat": 4,
 "nbformat_minor": 4
}
