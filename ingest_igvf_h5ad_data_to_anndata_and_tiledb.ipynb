{
 "cells": [
  {
   "cell_type": "markdown",
   "metadata": {},
   "source": [
    "![igvflogo](images/igvf-winter-logo.png)"
   ]
  },
  {
   "cell_type": "markdown",
   "metadata": {},
   "source": [
    "# Why use TileDB?\n",
    "With [TileDB](https://tiledb.io/) you gain the ability to quickly query array-structured data using rectangular slices, update existing arrays with new or changed data, and easily optimize your physical data organization for maximizing compression and read performance."
   ]
  },
  {
   "cell_type": "markdown",
   "metadata": {},
   "source": [
    "# What is anndata\n",
    "Anndata is a python package for handling annotated data matrices in memory and on disk. It is a widely used format for single-cell genomics data. For the purposes of this tutorial we will be using an experiment from [IGVF Project](https://data.igvf.org/matrix-files/IGVFFI0475WSGO/). For More information about anndata, see [anndata documentation](https://anndata.readthedocs.io/en/stable/)"
   ]
  },
  {
   "cell_type": "markdown",
   "metadata": {},
   "source": [
    "# Installation and configuration\n",
    "We will be making use of tiledb and tiledbsoma python packages."
   ]
  },
  {
   "cell_type": "code",
   "execution_count": null,
   "metadata": {},
   "outputs": [],
   "source": [
    "!pip install -r requirements.txt\n"
   ]
  },
  {
   "cell_type": "code",
   "execution_count": null,
   "metadata": {},
   "outputs": [],
   "source": [
    "\n",
    "import anndata as ad\n",
    "import tiledb\n",
    "import tiledbsoma\n",
    "import tiledbsoma.io\n",
    "from tiledbsoma import SOMAError\n",
    "\n",
    "import requests\n",
    "import boto3\n",
    "import io\n",
    "from urllib.parse import urlparse\n",
    "\n",
    "tiledbsoma.show_package_versions()\n",
    "cfg = tiledb.Config({\"vfs.s3.no_sign_request\": True})\n",
    "vfs = tiledb.VFS(config=cfg)"
   ]
  },
  {
   "cell_type": "markdown",
   "metadata": {},
   "source": [
    "### *The matrix `IGVFFI8645YMGX.h5ad` is from a Perturb-seq dataset in TeloHAEC cells: [IGVFDS7943IIWZ](hhttps://data.igvf.org/analysis-sets/IGVFDS7943IIWZ/)*\n",
    "We will start by fetching the File metadata and the s3_uri"
   ]
  },
  {
   "cell_type": "code",
   "execution_count": null,
   "metadata": {},
   "outputs": [],
   "source": [
    "file_metadata = requests.get(\"https://api.data.igvf.org/matrix-files/IGVFFI8645YMGX/\").json()\n",
    "uri = file_metadata['s3_uri']\n",
    "parsed_uri = urlparse(uri)\n",
    "bucket_name = parsed_uri.netloc\n",
    "object_key = parsed_uri.path.lstrip(\"/\")\n"
   ]
  },
  {
   "cell_type": "markdown",
   "metadata": {},
   "source": [
    "# Open h5ad with tiledb vfs and anndata\n",
    "From this point on you will need to be authenticated with AWS"
   ]
  },
  {
   "cell_type": "code",
   "execution_count": null,
   "metadata": {},
   "outputs": [],
   "source": [
    "# Initialize S3 client\n",
    "s3_client = boto3.client('s3')\n",
    "\n",
    "# Get the object from S3 - requires creds\n",
    "response = s3_client.get_object(Bucket=bucket_name, Key=object_key)\n",
    "\n",
    "# Read the content of the object into a BytesIO stream\n",
    "data_stream = io.BytesIO(response['Body'].read())\n",
    "\n",
    "adata = ad.read_h5ad(data_stream)"
   ]
  },
  {
   "cell_type": "markdown",
   "metadata": {},
   "source": [
    "# Explore anndata object\n",
    "Anndata is a rich container, and we won't go into the detail here. Below we'll look at very basic properties of the object."
   ]
  },
  {
   "cell_type": "code",
   "execution_count": null,
   "metadata": {},
   "outputs": [],
   "source": [
    "adata"
   ]
  },
  {
   "cell_type": "code",
   "execution_count": null,
   "metadata": {},
   "outputs": [],
   "source": [
    "adata.obs.head()"
   ]
  },
  {
   "cell_type": "code",
   "execution_count": null,
   "metadata": {},
   "outputs": [],
   "source": [
    "adata.var.head()"
   ]
  },
  {
   "cell_type": "markdown",
   "metadata": {},
   "source": [
    "# Ingest anndata into SOMA experiment\n",
    "SOMA experiment can be created in a local file (demonstrated here), S3 bucket or in TileDB Cloud (requires setting up [TileDB Cloud](https://cloud.tiledb.com) account)"
   ]
  },
  {
   "cell_type": "code",
   "execution_count": null,
   "metadata": {},
   "outputs": [],
   "source": [
    "EXPERIMENT_URI = 'my-single-cell-soma-experiment' #This URI can also be of format s3:// or tiledb://\n",
    "try:\n",
    "    tiledbsoma.io.from_anndata(experiment_uri=EXPERIMENT_URI, measurement_name=\"RNA\", anndata=adata)\n",
    "    with tiledbsoma.open(EXPERIMENT_URI) as exp:\n",
    "        print(exp.ms['RNA'].var.domain)\n",
    "        print(exp.ms[\"RNA\"].X[\"data\"].shape)\n",
    "except SOMAError:\n",
    "    print(f'Experiment {EXPERIMENT_URI} already exists. Delete (or deregister if using TileDB Cloud) the experiment before continuing.') "
   ]
  },
  {
   "cell_type": "code",
   "execution_count": null,
   "metadata": {},
   "outputs": [],
   "source": []
  },
  {
   "cell_type": "code",
   "execution_count": null,
   "metadata": {},
   "outputs": [],
   "source": []
  }
 ],
 "metadata": {
  "anaconda-cloud": {},
  "kernelspec": {
   "display_name": "Python 3 (ipykernel)",
   "language": "python",
   "name": "python3"
  },
  "language_info": {
   "codemirror_mode": {
    "name": "ipython",
    "version": 3
   },
   "file_extension": ".py",
   "mimetype": "text/x-python",
   "name": "python",
   "nbconvert_exporter": "python",
   "pygments_lexer": "ipython3",
   "version": "3.13.5"
  }
 },
 "nbformat": 4,
 "nbformat_minor": 4
}
