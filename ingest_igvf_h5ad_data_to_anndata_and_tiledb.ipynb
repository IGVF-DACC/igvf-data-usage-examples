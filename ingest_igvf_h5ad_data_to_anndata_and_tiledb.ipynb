{
 "cells": [
  {
   "cell_type": "markdown",
   "metadata": {},
   "source": [
    "![igvflogo](images/igvf-winter-logo.png)"
   ]
  },
  {
   "cell_type": "markdown",
   "metadata": {},
   "source": [
    "# Why use TileDB?\n",
    "With [TileDB](https://tiledb.io/) you gain the ability to quickly query array-structured data using rectangular slices, update existing arrays with new or changed data, and easily optimize your physical data organization for maximizing compression and read performance."
   ]
  },
  {
   "cell_type": "markdown",
   "metadata": {},
   "source": [
    "# What is anndata\n",
    "Anndata is a python package for handling annotated data matrices in memory and on disk. It is a widely used format for single-cell genomics data. For the purposes of this tutorial we will be using an experiment from [IGVF Project](https://data.igvf.org/matrix-files/IGVFFI0475WSGO/). For More information about anndata, see [anndata documentation](https://anndata.readthedocs.io/en/stable/)"
   ]
  },
  {
   "cell_type": "markdown",
   "metadata": {},
   "source": [
    "# Installation and configuration\n",
    "We will be making use of tiledb and tiledbsoma python packages."
   ]
  },
  {
   "cell_type": "code",
   "execution_count": 1,
   "metadata": {},
   "outputs": [
    {
     "name": "stdout",
     "output_type": "stream",
     "text": [
      "Requirement already satisfied: anndata==0.12.2 in /Users/benjaminhitz/pyvenvs/igvf-open-data/lib/python3.13/site-packages (from -r requirements.txt (line 1)) (0.12.2)\n",
      "Requirement already satisfied: anyio==4.10.0 in /Users/benjaminhitz/pyvenvs/igvf-open-data/lib/python3.13/site-packages (from -r requirements.txt (line 2)) (4.10.0)\n",
      "Requirement already satisfied: appnope==0.1.4 in /Users/benjaminhitz/pyvenvs/igvf-open-data/lib/python3.13/site-packages (from -r requirements.txt (line 3)) (0.1.4)\n",
      "Requirement already satisfied: argon2-cffi==25.1.0 in /Users/benjaminhitz/pyvenvs/igvf-open-data/lib/python3.13/site-packages (from -r requirements.txt (line 4)) (25.1.0)\n",
      "Requirement already satisfied: argon2-cffi-bindings==25.1.0 in /Users/benjaminhitz/pyvenvs/igvf-open-data/lib/python3.13/site-packages (from -r requirements.txt (line 5)) (25.1.0)\n",
      "Requirement already satisfied: array-api-compat==1.12.0 in /Users/benjaminhitz/pyvenvs/igvf-open-data/lib/python3.13/site-packages (from -r requirements.txt (line 6)) (1.12.0)\n",
      "Requirement already satisfied: arrow==1.3.0 in /Users/benjaminhitz/pyvenvs/igvf-open-data/lib/python3.13/site-packages (from -r requirements.txt (line 7)) (1.3.0)\n",
      "Requirement already satisfied: asttokens==3.0.0 in /Users/benjaminhitz/pyvenvs/igvf-open-data/lib/python3.13/site-packages (from -r requirements.txt (line 8)) (3.0.0)\n",
      "Requirement already satisfied: async-lru==2.0.5 in /Users/benjaminhitz/pyvenvs/igvf-open-data/lib/python3.13/site-packages (from -r requirements.txt (line 9)) (2.0.5)\n",
      "Requirement already satisfied: attrs==25.3.0 in /Users/benjaminhitz/pyvenvs/igvf-open-data/lib/python3.13/site-packages (from -r requirements.txt (line 10)) (25.3.0)\n",
      "Requirement already satisfied: babel==2.17.0 in /Users/benjaminhitz/pyvenvs/igvf-open-data/lib/python3.13/site-packages (from -r requirements.txt (line 11)) (2.17.0)\n",
      "Requirement already satisfied: beautifulsoup4==4.13.5 in /Users/benjaminhitz/pyvenvs/igvf-open-data/lib/python3.13/site-packages (from -r requirements.txt (line 12)) (4.13.5)\n",
      "Requirement already satisfied: bleach==6.2.0 in /Users/benjaminhitz/pyvenvs/igvf-open-data/lib/python3.13/site-packages (from -r requirements.txt (line 13)) (6.2.0)\n",
      "Requirement already satisfied: boto3==1.40.28 in /Users/benjaminhitz/pyvenvs/igvf-open-data/lib/python3.13/site-packages (from -r requirements.txt (line 14)) (1.40.28)\n",
      "Requirement already satisfied: botocore==1.40.28 in /Users/benjaminhitz/pyvenvs/igvf-open-data/lib/python3.13/site-packages (from -r requirements.txt (line 15)) (1.40.28)\n",
      "Requirement already satisfied: certifi==2025.8.3 in /Users/benjaminhitz/pyvenvs/igvf-open-data/lib/python3.13/site-packages (from -r requirements.txt (line 16)) (2025.8.3)\n",
      "Requirement already satisfied: cffi==1.17.1 in /Users/benjaminhitz/pyvenvs/igvf-open-data/lib/python3.13/site-packages (from -r requirements.txt (line 17)) (1.17.1)\n",
      "Requirement already satisfied: charset-normalizer==3.4.3 in /Users/benjaminhitz/pyvenvs/igvf-open-data/lib/python3.13/site-packages (from -r requirements.txt (line 18)) (3.4.3)\n",
      "Requirement already satisfied: comm==0.2.3 in /Users/benjaminhitz/pyvenvs/igvf-open-data/lib/python3.13/site-packages (from -r requirements.txt (line 19)) (0.2.3)\n",
      "Requirement already satisfied: contourpy==1.3.3 in /Users/benjaminhitz/pyvenvs/igvf-open-data/lib/python3.13/site-packages (from -r requirements.txt (line 20)) (1.3.3)\n",
      "Requirement already satisfied: crc32c==2.7.1 in /Users/benjaminhitz/pyvenvs/igvf-open-data/lib/python3.13/site-packages (from -r requirements.txt (line 21)) (2.7.1)\n",
      "Requirement already satisfied: cycler==0.12.1 in /Users/benjaminhitz/pyvenvs/igvf-open-data/lib/python3.13/site-packages (from -r requirements.txt (line 22)) (0.12.1)\n",
      "Requirement already satisfied: debugpy==1.8.16 in /Users/benjaminhitz/pyvenvs/igvf-open-data/lib/python3.13/site-packages (from -r requirements.txt (line 23)) (1.8.16)\n",
      "Requirement already satisfied: decorator==5.2.1 in /Users/benjaminhitz/pyvenvs/igvf-open-data/lib/python3.13/site-packages (from -r requirements.txt (line 24)) (5.2.1)\n",
      "Requirement already satisfied: defusedxml==0.7.1 in /Users/benjaminhitz/pyvenvs/igvf-open-data/lib/python3.13/site-packages (from -r requirements.txt (line 25)) (0.7.1)\n",
      "Requirement already satisfied: donfig==0.8.1.post1 in /Users/benjaminhitz/pyvenvs/igvf-open-data/lib/python3.13/site-packages (from -r requirements.txt (line 26)) (0.8.1.post1)\n",
      "Requirement already satisfied: executing==2.2.1 in /Users/benjaminhitz/pyvenvs/igvf-open-data/lib/python3.13/site-packages (from -r requirements.txt (line 27)) (2.2.1)\n",
      "Requirement already satisfied: fastjsonschema==2.21.2 in /Users/benjaminhitz/pyvenvs/igvf-open-data/lib/python3.13/site-packages (from -r requirements.txt (line 28)) (2.21.2)\n",
      "Requirement already satisfied: fonttools==4.59.2 in /Users/benjaminhitz/pyvenvs/igvf-open-data/lib/python3.13/site-packages (from -r requirements.txt (line 29)) (4.59.2)\n",
      "Requirement already satisfied: fqdn==1.5.1 in /Users/benjaminhitz/pyvenvs/igvf-open-data/lib/python3.13/site-packages (from -r requirements.txt (line 30)) (1.5.1)\n",
      "Requirement already satisfied: h11==0.16.0 in /Users/benjaminhitz/pyvenvs/igvf-open-data/lib/python3.13/site-packages (from -r requirements.txt (line 31)) (0.16.0)\n",
      "Requirement already satisfied: h5py==3.14.0 in /Users/benjaminhitz/pyvenvs/igvf-open-data/lib/python3.13/site-packages (from -r requirements.txt (line 32)) (3.14.0)\n",
      "Requirement already satisfied: httpcore==1.0.9 in /Users/benjaminhitz/pyvenvs/igvf-open-data/lib/python3.13/site-packages (from -r requirements.txt (line 33)) (1.0.9)\n",
      "Requirement already satisfied: httpx==0.28.1 in /Users/benjaminhitz/pyvenvs/igvf-open-data/lib/python3.13/site-packages (from -r requirements.txt (line 34)) (0.28.1)\n",
      "Requirement already satisfied: idna==3.10 in /Users/benjaminhitz/pyvenvs/igvf-open-data/lib/python3.13/site-packages (from -r requirements.txt (line 35)) (3.10)\n",
      "Requirement already satisfied: ipykernel==6.30.1 in /Users/benjaminhitz/pyvenvs/igvf-open-data/lib/python3.13/site-packages (from -r requirements.txt (line 36)) (6.30.1)\n",
      "Requirement already satisfied: ipython==9.5.0 in /Users/benjaminhitz/pyvenvs/igvf-open-data/lib/python3.13/site-packages (from -r requirements.txt (line 37)) (9.5.0)\n",
      "Requirement already satisfied: ipython_pygments_lexers==1.1.1 in /Users/benjaminhitz/pyvenvs/igvf-open-data/lib/python3.13/site-packages (from -r requirements.txt (line 38)) (1.1.1)\n",
      "Requirement already satisfied: ipywidgets==8.1.7 in /Users/benjaminhitz/pyvenvs/igvf-open-data/lib/python3.13/site-packages (from -r requirements.txt (line 39)) (8.1.7)\n",
      "Requirement already satisfied: isoduration==20.11.0 in /Users/benjaminhitz/pyvenvs/igvf-open-data/lib/python3.13/site-packages (from -r requirements.txt (line 40)) (20.11.0)\n",
      "Requirement already satisfied: jedi==0.19.2 in /Users/benjaminhitz/pyvenvs/igvf-open-data/lib/python3.13/site-packages (from -r requirements.txt (line 41)) (0.19.2)\n",
      "Requirement already satisfied: Jinja2==3.1.6 in /Users/benjaminhitz/pyvenvs/igvf-open-data/lib/python3.13/site-packages (from -r requirements.txt (line 42)) (3.1.6)\n",
      "Requirement already satisfied: jmespath==1.0.1 in /Users/benjaminhitz/pyvenvs/igvf-open-data/lib/python3.13/site-packages (from -r requirements.txt (line 43)) (1.0.1)\n",
      "Requirement already satisfied: joblib==1.5.2 in /Users/benjaminhitz/pyvenvs/igvf-open-data/lib/python3.13/site-packages (from -r requirements.txt (line 44)) (1.5.2)\n",
      "Requirement already satisfied: json5==0.12.1 in /Users/benjaminhitz/pyvenvs/igvf-open-data/lib/python3.13/site-packages (from -r requirements.txt (line 45)) (0.12.1)\n",
      "Requirement already satisfied: jsonpointer==3.0.0 in /Users/benjaminhitz/pyvenvs/igvf-open-data/lib/python3.13/site-packages (from -r requirements.txt (line 46)) (3.0.0)\n",
      "Requirement already satisfied: jsonschema==4.25.1 in /Users/benjaminhitz/pyvenvs/igvf-open-data/lib/python3.13/site-packages (from -r requirements.txt (line 47)) (4.25.1)\n",
      "Requirement already satisfied: jsonschema-specifications==2025.9.1 in /Users/benjaminhitz/pyvenvs/igvf-open-data/lib/python3.13/site-packages (from -r requirements.txt (line 48)) (2025.9.1)\n",
      "Requirement already satisfied: jupyter==1.1.1 in /Users/benjaminhitz/pyvenvs/igvf-open-data/lib/python3.13/site-packages (from -r requirements.txt (line 49)) (1.1.1)\n",
      "Requirement already satisfied: jupyter-console==6.6.3 in /Users/benjaminhitz/pyvenvs/igvf-open-data/lib/python3.13/site-packages (from -r requirements.txt (line 50)) (6.6.3)\n",
      "Requirement already satisfied: jupyter-events==0.12.0 in /Users/benjaminhitz/pyvenvs/igvf-open-data/lib/python3.13/site-packages (from -r requirements.txt (line 51)) (0.12.0)\n",
      "Requirement already satisfied: jupyter-lsp==2.3.0 in /Users/benjaminhitz/pyvenvs/igvf-open-data/lib/python3.13/site-packages (from -r requirements.txt (line 52)) (2.3.0)\n",
      "Requirement already satisfied: jupyter_client==8.6.3 in /Users/benjaminhitz/pyvenvs/igvf-open-data/lib/python3.13/site-packages (from -r requirements.txt (line 53)) (8.6.3)\n",
      "Requirement already satisfied: jupyter_core==5.8.1 in /Users/benjaminhitz/pyvenvs/igvf-open-data/lib/python3.13/site-packages (from -r requirements.txt (line 54)) (5.8.1)\n",
      "Requirement already satisfied: jupyter_server==2.17.0 in /Users/benjaminhitz/pyvenvs/igvf-open-data/lib/python3.13/site-packages (from -r requirements.txt (line 55)) (2.17.0)\n",
      "Requirement already satisfied: jupyter_server_terminals==0.5.3 in /Users/benjaminhitz/pyvenvs/igvf-open-data/lib/python3.13/site-packages (from -r requirements.txt (line 56)) (0.5.3)\n",
      "Requirement already satisfied: jupyterlab==4.4.7 in /Users/benjaminhitz/pyvenvs/igvf-open-data/lib/python3.13/site-packages (from -r requirements.txt (line 57)) (4.4.7)\n",
      "Requirement already satisfied: jupyterlab_pygments==0.3.0 in /Users/benjaminhitz/pyvenvs/igvf-open-data/lib/python3.13/site-packages (from -r requirements.txt (line 58)) (0.3.0)\n",
      "Requirement already satisfied: jupyterlab_server==2.27.3 in /Users/benjaminhitz/pyvenvs/igvf-open-data/lib/python3.13/site-packages (from -r requirements.txt (line 59)) (2.27.3)\n",
      "Requirement already satisfied: jupyterlab_widgets==3.0.15 in /Users/benjaminhitz/pyvenvs/igvf-open-data/lib/python3.13/site-packages (from -r requirements.txt (line 60)) (3.0.15)\n",
      "Requirement already satisfied: kiwisolver==1.4.9 in /Users/benjaminhitz/pyvenvs/igvf-open-data/lib/python3.13/site-packages (from -r requirements.txt (line 61)) (1.4.9)\n",
      "Requirement already satisfied: lark==1.2.2 in /Users/benjaminhitz/pyvenvs/igvf-open-data/lib/python3.13/site-packages (from -r requirements.txt (line 62)) (1.2.2)\n",
      "Requirement already satisfied: legacy-api-wrap==1.4.1 in /Users/benjaminhitz/pyvenvs/igvf-open-data/lib/python3.13/site-packages (from -r requirements.txt (line 63)) (1.4.1)\n",
      "Requirement already satisfied: llvmlite==0.44.0 in /Users/benjaminhitz/pyvenvs/igvf-open-data/lib/python3.13/site-packages (from -r requirements.txt (line 64)) (0.44.0)\n",
      "Requirement already satisfied: MarkupSafe==3.0.2 in /Users/benjaminhitz/pyvenvs/igvf-open-data/lib/python3.13/site-packages (from -r requirements.txt (line 65)) (3.0.2)\n",
      "Requirement already satisfied: matplotlib==3.10.6 in /Users/benjaminhitz/pyvenvs/igvf-open-data/lib/python3.13/site-packages (from -r requirements.txt (line 66)) (3.10.6)\n",
      "Requirement already satisfied: matplotlib-inline==0.1.7 in /Users/benjaminhitz/pyvenvs/igvf-open-data/lib/python3.13/site-packages (from -r requirements.txt (line 67)) (0.1.7)\n",
      "Requirement already satisfied: mistune==3.1.4 in /Users/benjaminhitz/pyvenvs/igvf-open-data/lib/python3.13/site-packages (from -r requirements.txt (line 68)) (3.1.4)\n",
      "Requirement already satisfied: more-itertools==10.8.0 in /Users/benjaminhitz/pyvenvs/igvf-open-data/lib/python3.13/site-packages (from -r requirements.txt (line 69)) (10.8.0)\n",
      "Requirement already satisfied: natsort==8.4.0 in /Users/benjaminhitz/pyvenvs/igvf-open-data/lib/python3.13/site-packages (from -r requirements.txt (line 70)) (8.4.0)\n",
      "Requirement already satisfied: nbclient==0.10.2 in /Users/benjaminhitz/pyvenvs/igvf-open-data/lib/python3.13/site-packages (from -r requirements.txt (line 71)) (0.10.2)\n",
      "Requirement already satisfied: nbconvert==7.16.6 in /Users/benjaminhitz/pyvenvs/igvf-open-data/lib/python3.13/site-packages (from -r requirements.txt (line 72)) (7.16.6)\n",
      "Requirement already satisfied: nbformat==5.10.4 in /Users/benjaminhitz/pyvenvs/igvf-open-data/lib/python3.13/site-packages (from -r requirements.txt (line 73)) (5.10.4)\n",
      "Requirement already satisfied: nest-asyncio==1.6.0 in /Users/benjaminhitz/pyvenvs/igvf-open-data/lib/python3.13/site-packages (from -r requirements.txt (line 74)) (1.6.0)\n",
      "Requirement already satisfied: networkx==3.5 in /Users/benjaminhitz/pyvenvs/igvf-open-data/lib/python3.13/site-packages (from -r requirements.txt (line 75)) (3.5)\n",
      "Requirement already satisfied: notebook==7.4.5 in /Users/benjaminhitz/pyvenvs/igvf-open-data/lib/python3.13/site-packages (from -r requirements.txt (line 76)) (7.4.5)\n",
      "Requirement already satisfied: notebook_shim==0.2.4 in /Users/benjaminhitz/pyvenvs/igvf-open-data/lib/python3.13/site-packages (from -r requirements.txt (line 77)) (0.2.4)\n",
      "Requirement already satisfied: numba==0.61.2 in /Users/benjaminhitz/pyvenvs/igvf-open-data/lib/python3.13/site-packages (from -r requirements.txt (line 78)) (0.61.2)\n",
      "Requirement already satisfied: numcodecs==0.16.2 in /Users/benjaminhitz/pyvenvs/igvf-open-data/lib/python3.13/site-packages (from -r requirements.txt (line 79)) (0.16.2)\n",
      "Requirement already satisfied: numpy==2.2.6 in /Users/benjaminhitz/pyvenvs/igvf-open-data/lib/python3.13/site-packages (from -r requirements.txt (line 80)) (2.2.6)\n",
      "Requirement already satisfied: overrides==7.7.0 in /Users/benjaminhitz/pyvenvs/igvf-open-data/lib/python3.13/site-packages (from -r requirements.txt (line 81)) (7.7.0)\n",
      "Requirement already satisfied: packaging==25.0 in /Users/benjaminhitz/pyvenvs/igvf-open-data/lib/python3.13/site-packages (from -r requirements.txt (line 82)) (25.0)\n",
      "Requirement already satisfied: pandas==2.3.2 in /Users/benjaminhitz/pyvenvs/igvf-open-data/lib/python3.13/site-packages (from -r requirements.txt (line 83)) (2.3.2)\n",
      "Requirement already satisfied: pandocfilters==1.5.1 in /Users/benjaminhitz/pyvenvs/igvf-open-data/lib/python3.13/site-packages (from -r requirements.txt (line 84)) (1.5.1)\n",
      "Requirement already satisfied: parso==0.8.5 in /Users/benjaminhitz/pyvenvs/igvf-open-data/lib/python3.13/site-packages (from -r requirements.txt (line 85)) (0.8.5)\n",
      "Requirement already satisfied: patsy==1.0.1 in /Users/benjaminhitz/pyvenvs/igvf-open-data/lib/python3.13/site-packages (from -r requirements.txt (line 86)) (1.0.1)\n",
      "Requirement already satisfied: pexpect==4.9.0 in /Users/benjaminhitz/pyvenvs/igvf-open-data/lib/python3.13/site-packages (from -r requirements.txt (line 87)) (4.9.0)\n",
      "Requirement already satisfied: pillow==11.3.0 in /Users/benjaminhitz/pyvenvs/igvf-open-data/lib/python3.13/site-packages (from -r requirements.txt (line 88)) (11.3.0)\n",
      "Requirement already satisfied: platformdirs==4.4.0 in /Users/benjaminhitz/pyvenvs/igvf-open-data/lib/python3.13/site-packages (from -r requirements.txt (line 89)) (4.4.0)\n",
      "Requirement already satisfied: prometheus_client==0.22.1 in /Users/benjaminhitz/pyvenvs/igvf-open-data/lib/python3.13/site-packages (from -r requirements.txt (line 90)) (0.22.1)\n",
      "Requirement already satisfied: prompt_toolkit==3.0.52 in /Users/benjaminhitz/pyvenvs/igvf-open-data/lib/python3.13/site-packages (from -r requirements.txt (line 91)) (3.0.52)\n",
      "Requirement already satisfied: psutil==7.0.0 in /Users/benjaminhitz/pyvenvs/igvf-open-data/lib/python3.13/site-packages (from -r requirements.txt (line 92)) (7.0.0)\n",
      "Requirement already satisfied: ptyprocess==0.7.0 in /Users/benjaminhitz/pyvenvs/igvf-open-data/lib/python3.13/site-packages (from -r requirements.txt (line 93)) (0.7.0)\n",
      "Requirement already satisfied: pure_eval==0.2.3 in /Users/benjaminhitz/pyvenvs/igvf-open-data/lib/python3.13/site-packages (from -r requirements.txt (line 94)) (0.2.3)\n",
      "Requirement already satisfied: pyarrow==21.0.0 in /Users/benjaminhitz/pyvenvs/igvf-open-data/lib/python3.13/site-packages (from -r requirements.txt (line 95)) (21.0.0)\n",
      "Requirement already satisfied: pyarrow-hotfix==0.7 in /Users/benjaminhitz/pyvenvs/igvf-open-data/lib/python3.13/site-packages (from -r requirements.txt (line 96)) (0.7)\n",
      "Requirement already satisfied: pycparser==2.22 in /Users/benjaminhitz/pyvenvs/igvf-open-data/lib/python3.13/site-packages (from -r requirements.txt (line 97)) (2.22)\n",
      "Requirement already satisfied: Pygments==2.19.2 in /Users/benjaminhitz/pyvenvs/igvf-open-data/lib/python3.13/site-packages (from -r requirements.txt (line 98)) (2.19.2)\n",
      "Requirement already satisfied: pynndescent==0.5.13 in /Users/benjaminhitz/pyvenvs/igvf-open-data/lib/python3.13/site-packages (from -r requirements.txt (line 99)) (0.5.13)\n",
      "Requirement already satisfied: pyparsing==3.2.3 in /Users/benjaminhitz/pyvenvs/igvf-open-data/lib/python3.13/site-packages (from -r requirements.txt (line 100)) (3.2.3)\n",
      "Requirement already satisfied: python-dateutil==2.9.0.post0 in /Users/benjaminhitz/pyvenvs/igvf-open-data/lib/python3.13/site-packages (from -r requirements.txt (line 101)) (2.9.0.post0)\n",
      "Requirement already satisfied: python-json-logger==3.3.0 in /Users/benjaminhitz/pyvenvs/igvf-open-data/lib/python3.13/site-packages (from -r requirements.txt (line 102)) (3.3.0)\n",
      "Requirement already satisfied: pytz==2025.2 in /Users/benjaminhitz/pyvenvs/igvf-open-data/lib/python3.13/site-packages (from -r requirements.txt (line 103)) (2025.2)\n",
      "Requirement already satisfied: PyYAML==6.0.2 in /Users/benjaminhitz/pyvenvs/igvf-open-data/lib/python3.13/site-packages (from -r requirements.txt (line 104)) (6.0.2)\n",
      "Requirement already satisfied: pyzmq==27.0.2 in /Users/benjaminhitz/pyvenvs/igvf-open-data/lib/python3.13/site-packages (from -r requirements.txt (line 105)) (27.0.2)\n",
      "Requirement already satisfied: referencing==0.36.2 in /Users/benjaminhitz/pyvenvs/igvf-open-data/lib/python3.13/site-packages (from -r requirements.txt (line 106)) (0.36.2)\n",
      "Requirement already satisfied: requests==2.32.5 in /Users/benjaminhitz/pyvenvs/igvf-open-data/lib/python3.13/site-packages (from -r requirements.txt (line 107)) (2.32.5)\n",
      "Requirement already satisfied: rfc3339-validator==0.1.4 in /Users/benjaminhitz/pyvenvs/igvf-open-data/lib/python3.13/site-packages (from -r requirements.txt (line 108)) (0.1.4)\n",
      "Requirement already satisfied: rfc3986-validator==0.1.1 in /Users/benjaminhitz/pyvenvs/igvf-open-data/lib/python3.13/site-packages (from -r requirements.txt (line 109)) (0.1.1)\n",
      "Requirement already satisfied: rfc3987-syntax==1.1.0 in /Users/benjaminhitz/pyvenvs/igvf-open-data/lib/python3.13/site-packages (from -r requirements.txt (line 110)) (1.1.0)\n",
      "Requirement already satisfied: rpds-py==0.27.1 in /Users/benjaminhitz/pyvenvs/igvf-open-data/lib/python3.13/site-packages (from -r requirements.txt (line 111)) (0.27.1)\n",
      "Requirement already satisfied: s3transfer==0.14.0 in /Users/benjaminhitz/pyvenvs/igvf-open-data/lib/python3.13/site-packages (from -r requirements.txt (line 112)) (0.14.0)\n",
      "Requirement already satisfied: scanpy==1.11.4 in /Users/benjaminhitz/pyvenvs/igvf-open-data/lib/python3.13/site-packages (from -r requirements.txt (line 113)) (1.11.4)\n",
      "Requirement already satisfied: scikit-learn==1.7.1 in /Users/benjaminhitz/pyvenvs/igvf-open-data/lib/python3.13/site-packages (from -r requirements.txt (line 114)) (1.7.1)\n",
      "Requirement already satisfied: scipy==1.16.1 in /Users/benjaminhitz/pyvenvs/igvf-open-data/lib/python3.13/site-packages (from -r requirements.txt (line 115)) (1.16.1)\n",
      "Requirement already satisfied: seaborn==0.13.2 in /Users/benjaminhitz/pyvenvs/igvf-open-data/lib/python3.13/site-packages (from -r requirements.txt (line 116)) (0.13.2)\n",
      "Requirement already satisfied: Send2Trash==1.8.3 in /Users/benjaminhitz/pyvenvs/igvf-open-data/lib/python3.13/site-packages (from -r requirements.txt (line 117)) (1.8.3)\n",
      "Requirement already satisfied: session-info2==0.2.1 in /Users/benjaminhitz/pyvenvs/igvf-open-data/lib/python3.13/site-packages (from -r requirements.txt (line 118)) (0.2.1)\n",
      "Requirement already satisfied: setuptools==80.9.0 in /Users/benjaminhitz/pyvenvs/igvf-open-data/lib/python3.13/site-packages (from -r requirements.txt (line 119)) (80.9.0)\n",
      "Requirement already satisfied: shapely==2.1.1 in /Users/benjaminhitz/pyvenvs/igvf-open-data/lib/python3.13/site-packages (from -r requirements.txt (line 120)) (2.1.1)\n",
      "Requirement already satisfied: six==1.17.0 in /Users/benjaminhitz/pyvenvs/igvf-open-data/lib/python3.13/site-packages (from -r requirements.txt (line 121)) (1.17.0)\n",
      "Requirement already satisfied: sniffio==1.3.1 in /Users/benjaminhitz/pyvenvs/igvf-open-data/lib/python3.13/site-packages (from -r requirements.txt (line 122)) (1.3.1)\n",
      "Requirement already satisfied: somacore==1.0.28 in /Users/benjaminhitz/pyvenvs/igvf-open-data/lib/python3.13/site-packages (from -r requirements.txt (line 123)) (1.0.28)\n",
      "Requirement already satisfied: soupsieve==2.8 in /Users/benjaminhitz/pyvenvs/igvf-open-data/lib/python3.13/site-packages (from -r requirements.txt (line 124)) (2.8)\n",
      "Requirement already satisfied: stack-data==0.6.3 in /Users/benjaminhitz/pyvenvs/igvf-open-data/lib/python3.13/site-packages (from -r requirements.txt (line 125)) (0.6.3)\n",
      "Requirement already satisfied: statsmodels==0.14.5 in /Users/benjaminhitz/pyvenvs/igvf-open-data/lib/python3.13/site-packages (from -r requirements.txt (line 126)) (0.14.5)\n",
      "Requirement already satisfied: terminado==0.18.1 in /Users/benjaminhitz/pyvenvs/igvf-open-data/lib/python3.13/site-packages (from -r requirements.txt (line 127)) (0.18.1)\n",
      "Requirement already satisfied: threadpoolctl==3.6.0 in /Users/benjaminhitz/pyvenvs/igvf-open-data/lib/python3.13/site-packages (from -r requirements.txt (line 128)) (3.6.0)\n",
      "Requirement already satisfied: tiledb==0.34.2 in /Users/benjaminhitz/pyvenvs/igvf-open-data/lib/python3.13/site-packages (from -r requirements.txt (line 129)) (0.34.2)\n",
      "Requirement already satisfied: tiledbsoma==1.17.1 in /Users/benjaminhitz/pyvenvs/igvf-open-data/lib/python3.13/site-packages (from -r requirements.txt (line 130)) (1.17.1)\n",
      "Requirement already satisfied: tinycss2==1.4.0 in /Users/benjaminhitz/pyvenvs/igvf-open-data/lib/python3.13/site-packages (from -r requirements.txt (line 131)) (1.4.0)\n",
      "Requirement already satisfied: tornado==6.5.2 in /Users/benjaminhitz/pyvenvs/igvf-open-data/lib/python3.13/site-packages (from -r requirements.txt (line 132)) (6.5.2)\n",
      "Requirement already satisfied: tqdm==4.67.1 in /Users/benjaminhitz/pyvenvs/igvf-open-data/lib/python3.13/site-packages (from -r requirements.txt (line 133)) (4.67.1)\n",
      "Requirement already satisfied: traitlets==5.14.3 in /Users/benjaminhitz/pyvenvs/igvf-open-data/lib/python3.13/site-packages (from -r requirements.txt (line 134)) (5.14.3)\n",
      "Requirement already satisfied: types-python-dateutil==2.9.0.20250822 in /Users/benjaminhitz/pyvenvs/igvf-open-data/lib/python3.13/site-packages (from -r requirements.txt (line 135)) (2.9.0.20250822)\n",
      "Requirement already satisfied: typing_extensions==4.15.0 in /Users/benjaminhitz/pyvenvs/igvf-open-data/lib/python3.13/site-packages (from -r requirements.txt (line 136)) (4.15.0)\n",
      "Requirement already satisfied: tzdata==2025.2 in /Users/benjaminhitz/pyvenvs/igvf-open-data/lib/python3.13/site-packages (from -r requirements.txt (line 137)) (2025.2)\n",
      "Requirement already satisfied: umap-learn==0.5.9.post2 in /Users/benjaminhitz/pyvenvs/igvf-open-data/lib/python3.13/site-packages (from -r requirements.txt (line 138)) (0.5.9.post2)\n",
      "Requirement already satisfied: uri-template==1.3.0 in /Users/benjaminhitz/pyvenvs/igvf-open-data/lib/python3.13/site-packages (from -r requirements.txt (line 139)) (1.3.0)\n",
      "Requirement already satisfied: urllib3==2.5.0 in /Users/benjaminhitz/pyvenvs/igvf-open-data/lib/python3.13/site-packages (from -r requirements.txt (line 140)) (2.5.0)\n",
      "Requirement already satisfied: wcwidth==0.2.13 in /Users/benjaminhitz/pyvenvs/igvf-open-data/lib/python3.13/site-packages (from -r requirements.txt (line 141)) (0.2.13)\n",
      "Requirement already satisfied: webcolors==24.11.1 in /Users/benjaminhitz/pyvenvs/igvf-open-data/lib/python3.13/site-packages (from -r requirements.txt (line 142)) (24.11.1)\n",
      "Requirement already satisfied: webencodings==0.5.1 in /Users/benjaminhitz/pyvenvs/igvf-open-data/lib/python3.13/site-packages (from -r requirements.txt (line 143)) (0.5.1)\n",
      "Requirement already satisfied: websocket-client==1.8.0 in /Users/benjaminhitz/pyvenvs/igvf-open-data/lib/python3.13/site-packages (from -r requirements.txt (line 144)) (1.8.0)\n",
      "Requirement already satisfied: widgetsnbextension==4.0.14 in /Users/benjaminhitz/pyvenvs/igvf-open-data/lib/python3.13/site-packages (from -r requirements.txt (line 145)) (4.0.14)\n",
      "Requirement already satisfied: zarr==3.1.2 in /Users/benjaminhitz/pyvenvs/igvf-open-data/lib/python3.13/site-packages (from -r requirements.txt (line 146)) (3.1.2)\n",
      "\n",
      "\u001b[1m[\u001b[0m\u001b[34;49mnotice\u001b[0m\u001b[1;39;49m]\u001b[0m\u001b[39;49m A new release of pip is available: \u001b[0m\u001b[31;49m25.1.1\u001b[0m\u001b[39;49m -> \u001b[0m\u001b[32;49m25.2\u001b[0m\n",
      "\u001b[1m[\u001b[0m\u001b[34;49mnotice\u001b[0m\u001b[1;39;49m]\u001b[0m\u001b[39;49m To update, run: \u001b[0m\u001b[32;49mpip install --upgrade pip\u001b[0m\n"
     ]
    }
   ],
   "source": [
    "!pip install -r requirements.txt\n"
   ]
  },
  {
   "cell_type": "code",
   "execution_count": 2,
   "metadata": {},
   "outputs": [
    {
     "name": "stdout",
     "output_type": "stream",
     "text": [
      "tiledbsoma.__version__              1.17.1\n",
      "TileDB core version (libtiledbsoma) 2.28.1\n",
      "python version                      3.13.5.final.0\n",
      "OS version                          Darwin 24.6.0\n"
     ]
    }
   ],
   "source": [
    "\n",
    "import anndata as ad\n",
    "import tiledb\n",
    "import tiledbsoma\n",
    "import tiledbsoma.io\n",
    "from tiledbsoma import SOMAError\n",
    "\n",
    "import requests\n",
    "import boto3\n",
    "import io\n",
    "from urllib.parse import urlparse\n",
    "\n",
    "tiledbsoma.show_package_versions()\n",
    "cfg = tiledb.Config({\"vfs.s3.no_sign_request\": True})\n",
    "vfs = tiledb.VFS(config=cfg)"
   ]
  },
  {
   "cell_type": "markdown",
   "metadata": {},
   "source": [
    "### *The matrix `IGVFFI8645YMGX.h5ad` is from a Perturb-seq dataset in TeloHAEC cells: [IGVFDS7943IIWZ](hhttps://data.igvf.org/analysis-sets/IGVFDS7943IIWZ/)*\n",
    "We will start by fetching the File metadata and the s3_uri"
   ]
  },
  {
   "cell_type": "code",
   "execution_count": 3,
   "metadata": {},
   "outputs": [],
   "source": [
    "file_metadata = requests.get(\"https://api.data.igvf.org/matrix-files/IGVFFI8645YMGX/\").json()\n",
    "uri = file_metadata['s3_uri']\n",
    "parsed_uri = urlparse(uri)\n",
    "bucket_name = parsed_uri.netloc\n",
    "object_key = parsed_uri.path.lstrip(\"/\")\n"
   ]
  },
  {
   "cell_type": "markdown",
   "metadata": {},
   "source": [
    "# Open h5ad with tiledb vfs and anndata\n",
    "From this point on you will need to be authenticated with AWS"
   ]
  },
  {
   "cell_type": "code",
   "execution_count": 4,
   "metadata": {},
   "outputs": [],
   "source": [
    "# Initialize S3 client\n",
    "session = boto3.session.Session(profile_name='igvf-prod')\n",
    "# Initialize S3 client\n",
    "s3_client = session.client('s3')\n",
    "\n",
    "## Future open bucket\n",
    "#session = boto3.Session()\n",
    "#s3_client = session.client('s3', config=botocore.client.Config(signature_version=botocore.UNSIGNED))\n",
    "\n",
    "# Get the object from S3 - requires creds\n",
    "response = s3_client.get_object(Bucket=bucket_name, Key=object_key)\n",
    "\n",
    "# Read the content of the object into a BytesIO stream\n",
    "data_stream = io.BytesIO(response['Body'].read())\n",
    "\n",
    "adata = ad.read_h5ad(data_stream)"
   ]
  },
  {
   "cell_type": "markdown",
   "metadata": {},
   "source": [
    "# Explore anndata object\n",
    "Anndata is a rich container, and we won't go into the detail here. Below we'll look at very basic properties of the object."
   ]
  },
  {
   "cell_type": "code",
   "execution_count": 5,
   "metadata": {},
   "outputs": [
    {
     "data": {
      "text/plain": [
       "AnnData object with n_obs × n_vars = 214449 × 17472\n",
       "    obs: 'barcodes', 'n_genes', 'n_counts'\n",
       "    var: 'n_cells'"
      ]
     },
     "execution_count": 5,
     "metadata": {},
     "output_type": "execute_result"
    }
   ],
   "source": [
    "adata"
   ]
  },
  {
   "cell_type": "code",
   "execution_count": 6,
   "metadata": {},
   "outputs": [
    {
     "data": {
      "text/html": [
       "<div>\n",
       "<style scoped>\n",
       "    .dataframe tbody tr th:only-of-type {\n",
       "        vertical-align: middle;\n",
       "    }\n",
       "\n",
       "    .dataframe tbody tr th {\n",
       "        vertical-align: top;\n",
       "    }\n",
       "\n",
       "    .dataframe thead th {\n",
       "        text-align: right;\n",
       "    }\n",
       "</style>\n",
       "<table border=\"1\" class=\"dataframe\">\n",
       "  <thead>\n",
       "    <tr style=\"text-align: right;\">\n",
       "      <th></th>\n",
       "      <th>barcodes</th>\n",
       "      <th>n_genes</th>\n",
       "      <th>n_counts</th>\n",
       "    </tr>\n",
       "  </thead>\n",
       "  <tbody>\n",
       "    <tr>\n",
       "      <th>('ANKEF1:GAAGGGACATCATTCACGCCT:AAACCCAAGAAGTCAT-scRNAseq_2kG_11AMDox_1',)</th>\n",
       "      <td>ANKEF1:GAAGGGACATCATTCACGCCT:AAACCCAAGAAGTCAT-...</td>\n",
       "      <td>3609</td>\n",
       "      <td>12474.0</td>\n",
       "    </tr>\n",
       "    <tr>\n",
       "      <th>('MTRR:GTGGTCCTGGGTACCGAGCAT:AAACCCAAGAGGACTC-scRNAseq_2kG_11AMDox_1',)</th>\n",
       "      <td>MTRR:GTGGTCCTGGGTACCGAGCAT:AAACCCAAGAGGACTC-sc...</td>\n",
       "      <td>1904</td>\n",
       "      <td>5743.0</td>\n",
       "    </tr>\n",
       "    <tr>\n",
       "      <th>('JAG1:GATGCGCCCTGCCCGGCGTGC:AAACCCACAATCGCAT-scRNAseq_2kG_11AMDox_1',)</th>\n",
       "      <td>JAG1:GATGCGCCCTGCCCGGCGTGC:AAACCCACAATCGCAT-sc...</td>\n",
       "      <td>4473</td>\n",
       "      <td>21423.0</td>\n",
       "    </tr>\n",
       "    <tr>\n",
       "      <th>('GOLPH3L:GGAAGTTTGTGCTCTCTGCG:AAACCCACACCAGCGT-scRNAseq_2kG_11AMDox_1',)</th>\n",
       "      <td>GOLPH3L:GGAAGTTTGTGCTCTCTGCG:AAACCCACACCAGCGT-...</td>\n",
       "      <td>3306</td>\n",
       "      <td>13837.0</td>\n",
       "    </tr>\n",
       "    <tr>\n",
       "      <th>('ARHGEF15-TSS2:GACCTACTGCAGAGTTAGGG:AAACCCACATTAAGCC-scRNAseq_2kG_11AMDox_1',)</th>\n",
       "      <td>ARHGEF15-TSS2:GACCTACTGCAGAGTTAGGG:AAACCCACATT...</td>\n",
       "      <td>3570</td>\n",
       "      <td>13278.0</td>\n",
       "    </tr>\n",
       "  </tbody>\n",
       "</table>\n",
       "</div>"
      ],
      "text/plain": [
       "                                                                                             barcodes  \\\n",
       "('ANKEF1:GAAGGGACATCATTCACGCCT:AAACCCAAGAAGTCAT...  ANKEF1:GAAGGGACATCATTCACGCCT:AAACCCAAGAAGTCAT-...   \n",
       "('MTRR:GTGGTCCTGGGTACCGAGCAT:AAACCCAAGAGGACTC-s...  MTRR:GTGGTCCTGGGTACCGAGCAT:AAACCCAAGAGGACTC-sc...   \n",
       "('JAG1:GATGCGCCCTGCCCGGCGTGC:AAACCCACAATCGCAT-s...  JAG1:GATGCGCCCTGCCCGGCGTGC:AAACCCACAATCGCAT-sc...   \n",
       "('GOLPH3L:GGAAGTTTGTGCTCTCTGCG:AAACCCACACCAGCGT...  GOLPH3L:GGAAGTTTGTGCTCTCTGCG:AAACCCACACCAGCGT-...   \n",
       "('ARHGEF15-TSS2:GACCTACTGCAGAGTTAGGG:AAACCCACAT...  ARHGEF15-TSS2:GACCTACTGCAGAGTTAGGG:AAACCCACATT...   \n",
       "\n",
       "                                                    n_genes  n_counts  \n",
       "('ANKEF1:GAAGGGACATCATTCACGCCT:AAACCCAAGAAGTCAT...     3609   12474.0  \n",
       "('MTRR:GTGGTCCTGGGTACCGAGCAT:AAACCCAAGAGGACTC-s...     1904    5743.0  \n",
       "('JAG1:GATGCGCCCTGCCCGGCGTGC:AAACCCACAATCGCAT-s...     4473   21423.0  \n",
       "('GOLPH3L:GGAAGTTTGTGCTCTCTGCG:AAACCCACACCAGCGT...     3306   13837.0  \n",
       "('ARHGEF15-TSS2:GACCTACTGCAGAGTTAGGG:AAACCCACAT...     3570   13278.0  "
      ]
     },
     "execution_count": 6,
     "metadata": {},
     "output_type": "execute_result"
    }
   ],
   "source": [
    "adata.obs.head()"
   ]
  },
  {
   "cell_type": "code",
   "execution_count": 7,
   "metadata": {},
   "outputs": [
    {
     "data": {
      "text/html": [
       "<div>\n",
       "<style scoped>\n",
       "    .dataframe tbody tr th:only-of-type {\n",
       "        vertical-align: middle;\n",
       "    }\n",
       "\n",
       "    .dataframe tbody tr th {\n",
       "        vertical-align: top;\n",
       "    }\n",
       "\n",
       "    .dataframe thead th {\n",
       "        text-align: right;\n",
       "    }\n",
       "</style>\n",
       "<table border=\"1\" class=\"dataframe\">\n",
       "  <thead>\n",
       "    <tr style=\"text-align: right;\">\n",
       "      <th></th>\n",
       "      <th>n_cells</th>\n",
       "    </tr>\n",
       "  </thead>\n",
       "  <tbody>\n",
       "    <tr>\n",
       "      <th>FAM87B:ENSG00000177757</th>\n",
       "      <td>115</td>\n",
       "    </tr>\n",
       "    <tr>\n",
       "      <th>FAM41C:ENSG00000230368</th>\n",
       "      <td>2274</td>\n",
       "    </tr>\n",
       "    <tr>\n",
       "      <th>SAMD11:ENSG00000187634</th>\n",
       "      <td>491</td>\n",
       "    </tr>\n",
       "    <tr>\n",
       "      <th>NOC2L:ENSG00000188976</th>\n",
       "      <td>66487</td>\n",
       "    </tr>\n",
       "    <tr>\n",
       "      <th>KLHL17:ENSG00000187961</th>\n",
       "      <td>6897</td>\n",
       "    </tr>\n",
       "  </tbody>\n",
       "</table>\n",
       "</div>"
      ],
      "text/plain": [
       "                        n_cells\n",
       "FAM87B:ENSG00000177757      115\n",
       "FAM41C:ENSG00000230368     2274\n",
       "SAMD11:ENSG00000187634      491\n",
       "NOC2L:ENSG00000188976     66487\n",
       "KLHL17:ENSG00000187961     6897"
      ]
     },
     "execution_count": 7,
     "metadata": {},
     "output_type": "execute_result"
    }
   ],
   "source": [
    "adata.var.head()"
   ]
  },
  {
   "cell_type": "markdown",
   "metadata": {},
   "source": [
    "# Ingest anndata into SOMA experiment\n",
    "SOMA experiment can be created in a local file (demonstrated here), S3 bucket or in TileDB Cloud (requires setting up [TileDB Cloud](https://cloud.tiledb.com) account)"
   ]
  },
  {
   "cell_type": "code",
   "execution_count": null,
   "metadata": {},
   "outputs": [],
   "source": [
    "EXPERIMENT_URI = 'my-single-cell-soma-experiment' #This URI can also be of format s3:// or tiledb://\n",
    "try:\n",
    "    tiledbsoma.io.from_anndata(experiment_uri=EXPERIMENT_URI, measurement_name=\"RNA\", anndata=adata)\n",
    "    with tiledbsoma.open(EXPERIMENT_URI) as exp:\n",
    "        print(exp.ms['RNA'].var.domain)\n",
    "        print(exp.ms[\"RNA\"].X[\"data\"].shape)\n",
    "except SOMAError:\n",
    "    print(f'Experiment {EXPERIMENT_URI} already exists. Delete (or deregister if using TileDB Cloud) the experiment before continuing.') "
   ]
  },
  {
   "cell_type": "code",
   "execution_count": null,
   "metadata": {},
   "outputs": [],
   "source": []
  },
  {
   "cell_type": "code",
   "execution_count": null,
   "metadata": {},
   "outputs": [],
   "source": []
  }
 ],
 "metadata": {
  "anaconda-cloud": {},
  "kernelspec": {
   "display_name": "Python 3 (ipykernel)",
   "language": "python",
   "name": "python3"
  },
  "language_info": {
   "codemirror_mode": {
    "name": "ipython",
    "version": 3
   },
   "file_extension": ".py",
   "mimetype": "text/x-python",
   "name": "python",
   "nbconvert_exporter": "python",
   "pygments_lexer": "ipython3",
   "version": "3.13.5"
  }
 },
 "nbformat": 4,
 "nbformat_minor": 4
}
